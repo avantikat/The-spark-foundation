{
  "nbformat": 4,
  "nbformat_minor": 0,
  "metadata": {
    "colab": {
      "name": "spark codeipynb",
      "provenance": [],
      "collapsed_sections": [],
      "toc_visible": true
    },
    "kernelspec": {
      "name": "python3",
      "display_name": "Python 3"
    },
    "language_info": {
      "name": "python"
    }
  },
  "cells": [
    {
      "cell_type": "markdown",
      "metadata": {
        "id": "JEl6Ax6WnMUF"
      },
      "source": [
        "# **task 1:prediction using supervised ML**"
      ]
    },
    {
      "cell_type": "markdown",
      "metadata": {
        "id": "4QX8j-oH8rXs"
      },
      "source": [
        "Avantika"
      ]
    },
    {
      "cell_type": "markdown",
      "metadata": {
        "id": "Vu9BsEOCnXvt"
      },
      "source": [
        "The sparks foundation\n",
        "The main task is Predict the percentage of an student based on the no. of study hours.This is a simple linear regression task as it involves just 2 variables."
      ]
    },
    {
      "cell_type": "code",
      "metadata": {
        "id": "FIFvi_IFi50l"
      },
      "source": [
        "#imorting the required libraries\n",
        "from sklearn.model_selection import train_test_split\n",
        "from sklearn.linear_model import LinearRegression\n",
        "import matplotlib.pyplot as plt\n",
        "import pandas as pd \n",
        "import numpy as np\n"
      ],
      "execution_count": null,
      "outputs": []
    },
    {
      "cell_type": "code",
      "metadata": {
        "colab": {
          "base_uri": "https://localhost:8080/",
          "height": 358
        },
        "id": "4V8BzyTzkJs-",
        "outputId": "31aa876f-74ca-4a50-9d58-dc83244e238f"
      },
      "source": [
        "# reading data from remote link\n",
        "data = pd.read_csv(\"http://bit.ly/w-data\")\n",
        "print(\" Data import successful\")\n",
        "data.head(10)"
      ],
      "execution_count": null,
      "outputs": [
        {
          "output_type": "stream",
          "text": [
            " Data import successful\n"
          ],
          "name": "stdout"
        },
        {
          "output_type": "execute_result",
          "data": {
            "text/html": [
              "<div>\n",
              "<style scoped>\n",
              "    .dataframe tbody tr th:only-of-type {\n",
              "        vertical-align: middle;\n",
              "    }\n",
              "\n",
              "    .dataframe tbody tr th {\n",
              "        vertical-align: top;\n",
              "    }\n",
              "\n",
              "    .dataframe thead th {\n",
              "        text-align: right;\n",
              "    }\n",
              "</style>\n",
              "<table border=\"1\" class=\"dataframe\">\n",
              "  <thead>\n",
              "    <tr style=\"text-align: right;\">\n",
              "      <th></th>\n",
              "      <th>Hours</th>\n",
              "      <th>Scores</th>\n",
              "    </tr>\n",
              "  </thead>\n",
              "  <tbody>\n",
              "    <tr>\n",
              "      <th>0</th>\n",
              "      <td>2.5</td>\n",
              "      <td>21</td>\n",
              "    </tr>\n",
              "    <tr>\n",
              "      <th>1</th>\n",
              "      <td>5.1</td>\n",
              "      <td>47</td>\n",
              "    </tr>\n",
              "    <tr>\n",
              "      <th>2</th>\n",
              "      <td>3.2</td>\n",
              "      <td>27</td>\n",
              "    </tr>\n",
              "    <tr>\n",
              "      <th>3</th>\n",
              "      <td>8.5</td>\n",
              "      <td>75</td>\n",
              "    </tr>\n",
              "    <tr>\n",
              "      <th>4</th>\n",
              "      <td>3.5</td>\n",
              "      <td>30</td>\n",
              "    </tr>\n",
              "    <tr>\n",
              "      <th>5</th>\n",
              "      <td>1.5</td>\n",
              "      <td>20</td>\n",
              "    </tr>\n",
              "    <tr>\n",
              "      <th>6</th>\n",
              "      <td>9.2</td>\n",
              "      <td>88</td>\n",
              "    </tr>\n",
              "    <tr>\n",
              "      <th>7</th>\n",
              "      <td>5.5</td>\n",
              "      <td>60</td>\n",
              "    </tr>\n",
              "    <tr>\n",
              "      <th>8</th>\n",
              "      <td>8.3</td>\n",
              "      <td>81</td>\n",
              "    </tr>\n",
              "    <tr>\n",
              "      <th>9</th>\n",
              "      <td>2.7</td>\n",
              "      <td>25</td>\n",
              "    </tr>\n",
              "  </tbody>\n",
              "</table>\n",
              "</div>"
            ],
            "text/plain": [
              "   Hours  Scores\n",
              "0    2.5      21\n",
              "1    5.1      47\n",
              "2    3.2      27\n",
              "3    8.5      75\n",
              "4    3.5      30\n",
              "5    1.5      20\n",
              "6    9.2      88\n",
              "7    5.5      60\n",
              "8    8.3      81\n",
              "9    2.7      25"
            ]
          },
          "metadata": {
            "tags": []
          },
          "execution_count": 53
        }
      ]
    },
    {
      "cell_type": "markdown",
      "metadata": {
        "id": "Na2EHWNLlU3O"
      },
      "source": [
        "# **Input Data Visualization**"
      ]
    },
    {
      "cell_type": "code",
      "metadata": {
        "colab": {
          "base_uri": "https://localhost:8080/",
          "height": 295
        },
        "id": "3RrOg-MSlnIC",
        "outputId": "3d7e1a70-0fce-4171-ef82-a3a394501003"
      },
      "source": [
        "#plotting the distribution of scores\n",
        "data.plot (x= 'Hours', y= 'Scores', style ='o')\n",
        "plt.title('hours vs percentage')\n",
        "plt.xlabel('hours studied')\n",
        "plt.ylabel('percentage score ')\n",
        "plt.show()"
      ],
      "execution_count": null,
      "outputs": [
        {
          "output_type": "display_data",
          "data": {
            "image/png": "[encoded data removed]",
            "text/plain": [
              "<Figure size 432x288 with 1 Axes>"
            ]
          },
          "metadata": {
            "tags": [],
            "needs_background": "light"
          }
        }
      ]
    },
    {
      "cell_type": "markdown",
      "metadata": {
        "id": "DKc6fewrnqgI"
      },
      "source": [
        "# **Data preprocessing**"
      ]
    },
    {
      "cell_type": "code",
      "metadata": {
        "id": "RD94a6UknpEA"
      },
      "source": [
        "# division of into \"attribute\"(input) and \"lables\" (output)\n",
        "x=data.iloc[:,:-1].values\n",
        "y= data.iloc[:,1].values"
      ],
      "execution_count": null,
      "outputs": []
    },
    {
      "cell_type": "markdown",
      "metadata": {
        "id": "4-UuONmBoh1f"
      },
      "source": [
        "# **Model trainig**"
      ]
    },
    {
      "cell_type": "code",
      "metadata": {
        "colab": {
          "base_uri": "https://localhost:8080/"
        },
        "id": "WflAoM4Yoo1X",
        "outputId": "9399b68f-6b99-452b-8c87-1b7387310758"
      },
      "source": [
        "#splitting the data into training and testing sets,and training and algorithm\n",
        "x_train, x_test, y_train, y_test =train_test_split(x,y,test_size=0.2,random_state=0)\n",
        "regressor = LinearRegression()\n",
        "regressor.fit(x_train.reshape(-1,1), y_train)\n",
        "print(\"Training complete.\")\n",
        "                                                   "
      ],
      "execution_count": null,
      "outputs": [
        {
          "output_type": "stream",
          "text": [
            "Training complete.\n"
          ],
          "name": "stdout"
        }
      ]
    },
    {
      "cell_type": "markdown",
      "metadata": {
        "id": "1n-9JyEAp9-w"
      },
      "source": [
        "# **Plotting the line of regression**"
      ]
    },
    {
      "cell_type": "code",
      "metadata": {
        "colab": {
          "base_uri": "https://localhost:8080/",
          "height": 283
        },
        "id": "beivJLFlqTeq",
        "outputId": "55e9250b-b373-43dd-b3bc-a195e8b0b7b3"
      },
      "source": [
        "# plotting the regression line \n",
        "line = regressor.coef_*x+regressor.intercept_\n",
        "\n",
        "#plotting for the test data\n",
        "plt.scatter(x,y)\n",
        "plt.plot(x,line,color='yellow');\n",
        "plt.show"
      ],
      "execution_count": null,
      "outputs": [
        {
          "output_type": "execute_result",
          "data": {
            "text/plain": [
              "<function matplotlib.pyplot.show>"
            ]
          },
          "metadata": {
            "tags": []
          },
          "execution_count": 15
        },
        {
          "output_type": "display_data",
          "data": {
            "image/png": "[encoded data removed]",
            "text/plain": [
              "<Figure size 432x288 with 1 Axes>"
            ]
          },
          "metadata": {
            "tags": [],
            "needs_background": "light"
          }
        }
      ]
    },
    {
      "cell_type": "markdown",
      "metadata": {
        "id": "sLJaKgagrIgw"
      },
      "source": [
        "# **Making Predictions**"
      ]
    },
    {
      "cell_type": "code",
      "metadata": {
        "colab": {
          "base_uri": "https://localhost:8080/"
        },
        "id": "WKjSYvzHrQsW",
        "outputId": "8a419325-fa18-442d-f385-8f051aa13fe3"
      },
      "source": [
        "# testing the model by making predictions\n",
        "print(x_test)\n",
        "# model prediction\n",
        "y_pred= regressor.predict(x_test)\n"
      ],
      "execution_count": null,
      "outputs": [
        {
          "output_type": "stream",
          "text": [
            "[[1.5]\n",
            " [3.2]\n",
            " [7.4]\n",
            " [2.5]\n",
            " [5.9]]\n"
          ],
          "name": "stdout"
        }
      ]
    },
    {
      "cell_type": "markdown",
      "metadata": {
        "id": "3DQjK2p7rtcX"
      },
      "source": [
        "# **Comparing Actual Result To the predict model result**"
      ]
    },
    {
      "cell_type": "code",
      "metadata": {
        "id": "64Fy2R77sAc3"
      },
      "source": [
        "#comparing actual result to the predicted result\n",
        "df=pd.DataFrame({'Actual': y_test, 'predicted': y_pred})\n"
      ],
      "execution_count": null,
      "outputs": []
    },
    {
      "cell_type": "code",
      "metadata": {
        "colab": {
          "base_uri": "https://localhost:8080/"
        },
        "id": "iXJI7-HWsxlo",
        "outputId": "acc14a90-5152-4095-ed50-bb843c41b51f"
      },
      "source": [
        "#Estimating training and test score\n",
        "print(\"traning score:\" , regressor.score(x_train,y_train))\n",
        "print(\"Test score:\" , regressor.score(x_test,y_test))"
      ],
      "execution_count": null,
      "outputs": [
        {
          "output_type": "stream",
          "text": [
            "traning score: 0.9515510725211553\n",
            "Test score: 0.9454906892105354\n"
          ],
          "name": "stdout"
        }
      ]
    },
    {
      "cell_type": "code",
      "metadata": {
        "colab": {
          "base_uri": "https://localhost:8080/",
          "height": 316
        },
        "id": "Yl7SYNXttXz1",
        "outputId": "99da1d60-b0f6-4ea0-f7bb-27267b03a90b"
      },
      "source": [
        "#ploting the bar graph to depict the difference between the actual and predicted values\n",
        "df.plot(kind='bar',figsize=(5,5))\n",
        "plt.grid(which='major',linewidth = '0.5' , color = 'red')\n",
        "plt.grid(which= 'minor', linewidth = '0.5' , color= 'blue')\n",
        "plt.show()"
      ],
      "execution_count": null,
      "outputs": [
        {
          "output_type": "display_data",
          "data": {
            "image/png": "[encoded data removed]",
            "text/plain": [
              "<Figure size 360x360 with 1 Axes>"
            ]
          },
          "metadata": {
            "tags": [],
            "needs_background": "light"
          }
        }
      ]
    },
    {
      "cell_type": "code",
      "metadata": {
        "colab": {
          "base_uri": "https://localhost:8080/"
        },
        "id": "AjsmkJsbuw9S",
        "outputId": "9ccf32f2-588e-4770-bde0-458564036142"
      },
      "source": [
        "# testing the model with our own data\n",
        "hours=9.25\n",
        "test=np.array([hours])\n",
        "test=test.reshape(-1,1)\n",
        "own_pred= regressor.predict(test)\n",
        "print(\"no of Hours = {}\".format(hours))\n",
        "print(\"predicted Score = {}\".format( own_pred [0]))"
      ],
      "execution_count": null,
      "outputs": [
        {
          "output_type": "stream",
          "text": [
            "no of Hours = 9.25\n",
            "predicted Score = 93.69173248737539\n"
          ],
          "name": "stdout"
        }
      ]
    },
    {
      "cell_type": "markdown",
      "metadata": {
        "id": "9Ft5zy8Xvxpc"
      },
      "source": [
        "# **Evaluting the model**"
      ]
    },
    {
      "cell_type": "code",
      "metadata": {
        "id": "pTdbBrtPy6RD",
        "colab": {
          "base_uri": "https://localhost:8080/"
        },
        "outputId": "43550826-14a1-4e2e-bb43-3ccfb2a03b03"
      },
      "source": [
        "from sklearn import metrics  \n",
        "print('Mean Absolute Error:', \n",
        "      metrics.mean_absolute_error(y_test, y_pred)) "
      ],
      "execution_count": null,
      "outputs": [
        {
          "output_type": "stream",
          "text": [
            "Mean Absolute Error: 4.183859899002982\n"
          ],
          "name": "stdout"
        }
      ]
    },
    {
      "cell_type": "markdown",
      "metadata": {
        "id": "uVjQNAeu8DFx"
      },
      "source": [
        "The final step is to evaluate the performance of algorithm. This step is particularly important to compare how well different algorithms perform on a particular dataset. For simplicity here, we have chosen the mean square error. There are many such metrics.\n",
        "\n"
      ]
    },
    {
      "cell_type": "markdown",
      "metadata": {
        "id": "ygZgvRj56WKC"
      },
      "source": [
        "# **thank u**"
      ]
    }
  ]
}
